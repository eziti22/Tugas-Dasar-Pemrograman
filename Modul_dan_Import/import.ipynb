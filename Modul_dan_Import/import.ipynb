{
 "cells": [
  {
   "cell_type": "code",
   "execution_count": 3,
   "id": "b1e5b035",
   "metadata": {},
   "outputs": [
    {
     "name": "stdout",
     "output_type": "stream",
     "text": [
      "Mencari Total Huruf Besar (UPPERCASE) Dalam Sebuah Kalimat\n",
      "16\n",
      "16\n"
     ]
    }
   ],
   "source": [
    "import uppercase \n",
    "kalimat = 'Mencari Total Huruf Besar (UPPERCASE) Dalam Sebuah Kalimat'\n",
    "print(kalimat)\n",
    "print(uppercase.countUppercase(kalimat))\n",
    "print(uppercase.countUppercase2(kalimat))"
   ]
  },
  {
   "cell_type": "code",
   "execution_count": null,
   "id": "f9fd74d9",
   "metadata": {},
   "outputs": [],
   "source": []
  },
  {
   "cell_type": "code",
   "execution_count": null,
   "id": "a14c130e",
   "metadata": {},
   "outputs": [],
   "source": []
  }
 ],
 "metadata": {
  "kernelspec": {
   "display_name": "Python 3 (ipykernel)",
   "language": "python",
   "name": "python3"
  },
  "language_info": {
   "codemirror_mode": {
    "name": "ipython",
    "version": 3
   },
   "file_extension": ".py",
   "mimetype": "text/x-python",
   "name": "python",
   "nbconvert_exporter": "python",
   "pygments_lexer": "ipython3",
   "version": "3.9.12"
  }
 },
 "nbformat": 4,
 "nbformat_minor": 5
}
