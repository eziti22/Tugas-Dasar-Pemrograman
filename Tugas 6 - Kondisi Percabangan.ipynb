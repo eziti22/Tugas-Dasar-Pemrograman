{
 "cells": [
  {
   "cell_type": "markdown",
   "id": "607e2dd6",
   "metadata": {},
   "source": [
    "<h2>Mochammad Fauzi Dwi Rusdiansyah</h2>\n",
    "<h3>20220040036    TI22F</h3>\n",
    "\n",
    "<ul> Sebuah wahana bermain 'Disney Island' akan memberikan tarif sesuai dengan tinggi dan umur anak dengan ketentuan sebagai berikut:\n",
    "    <li>Umur kurang dari 2 tahun: Tampilkan 'Dilarang masuk'</li>\n",
    "    <li>Umur kurang dari 4 tahun: Rp 30.000. Jika tinggi anak umur 2-3 tahun melebihi 70 cm maka tarif akan bertambah 10.000</li>\n",
    "    <li>Umur kurang dari 7 tahun: Rp 40.000. Jika tinggi anak umur 4-6 tahun melebih 120 cm maka tarif akan bertambah 15.000</li>\n",
    "    <li>Umur kurang dari 10 tahun: Rp 50.000. Jika tinggi anak umur 8-9 tahun melebih 150 cm maka tarif akan bertambah 20.000</li>\n",
    "    <li>Umur 10 tahun keatas: Rp 80.000</li>\n",
    "</ul>\n",
    "<p>Buatlah program untuk menampilkan tarif harga sesuai umur dan tinggi seorang anak!</p>"
   ]
  },
  {
   "cell_type": "code",
   "execution_count": 68,
   "id": "246f8468",
   "metadata": {},
   "outputs": [
    {
     "name": "stdout",
     "output_type": "stream",
     "text": [
      "======Selamat Datang di Disney Land=====\n",
      "Silahkan masukan umur anda : 10\n",
      "Silahkan Masukan Tinggi badan anda : 151\n",
      "Harga Tiket = 80000\n",
      "==============Terima Kasih==============\n"
     ]
    }
   ],
   "source": [
    "print('======Selamat Datang di Disney Land=====')\n",
    "umur = int(input('Silahkan masukan umur anda : '))\n",
    "tinggi = int(input('Silahkan Masukan Tinggi badan anda : '))\n",
    "tiket = 0\n",
    "if umur < 2:\n",
    "    print('============ Dilarang Masuk ============')\n",
    "elif umur < 4:\n",
    "    tiket += 30000\n",
    "    if tinggi > 70:\n",
    "        tiket += 10000\n",
    "    print('Harga Tiket = {}'.format(tiket))\n",
    "elif umur < 7:\n",
    "    tiket += 40000\n",
    "    if tinggi > 120:\n",
    "        tiket += 15000\n",
    "    print('Harga Tiket = {}'.format(tiket))\n",
    "elif umur < 10:\n",
    "    tiket += 50000\n",
    "    if tinggi > 150:\n",
    "        tiket += 20000\n",
    "    print('Harga Tiket = {}'.format(tiket))\n",
    "else:\n",
    "    tiket += 80000\n",
    "    print('Harga Tiket = {}'.format(tiket))\n",
    "print('==============Terima Kasih==============')"
   ]
  },
  {
   "cell_type": "markdown",
   "id": "03e8e881",
   "metadata": {},
   "source": [
    "<p>Terdapat sebuah jurnal yang menuliskan teorinya bahwa olahraga dapat membakar kalori yang terkandung dalam tubuh manusia. Hal tersebut berbanding lurus dengan lama waktu yang dilakukan.</p>\n",
    "<ul>Berikut ini adalah beberapa teori tersebut:\n",
    "    <li>Olahraga lari membakar 60 kalori setiap 5 menit.</li>\n",
    "    <li>Olahraga push-up membakar 200 kalori setiap 30 menit</li>\n",
    "    <li>Olahraga plank membakar 5 kalori selama 1 menit</li>\n",
    "</ul>\n",
    "<p>Buatlah program berdasarkan uraian tersebut untuk menghitung berapa jumlah kalori yang terbakar setelah melakukan aktivitas olahraga tersebut dengan ketentuan setiap orang boleh melakukan aktivitasnya lebih dari 1 (satu).</p>"
   ]
  },
  {
   "cell_type": "code",
   "execution_count": 101,
   "id": "60de33b1",
   "metadata": {
    "scrolled": true
   },
   "outputs": [
    {
     "name": "stdout",
     "output_type": "stream",
     "text": [
      "Kalori per menit\n",
      "Lari = 12.0 kalori.\n",
      "Push Up = 6.666666666666667 kalori atau 7.0 kalori.\n",
      "Plank = 5 kalori.\n",
      "\n",
      "==================================\n",
      "1.Lari saja\n",
      "2.Lari dan Push Up\n",
      "3.Lari dan Plank\n",
      "4.Push Up dan Plank\n",
      "5.Lari, Push Up, dan Plank\n",
      "==================================\n",
      "Masukan pilihan olahraga :5\n",
      "Masukan berapa lama anda lari(menit) :3\n",
      "- Kalori yang di bakar =  36.0\n",
      "Masukan berapa lama anda push up(menit) :2\n",
      "- Kalori yang di bakat =  14.0\n",
      "Masukan berapa lama anda plank(menit) :4\n",
      "- Kalori yang di bakat =  20\n",
      "Jumlah Kalori yang dibakar setelah anda lari,push up, dan plank selama 9 menit adalah 70.0 kalori\n"
     ]
    }
   ],
   "source": [
    "#kalori per menit\n",
    "lari = 60/5\n",
    "push_upA = 200/30\n",
    "push_up = round(200/30,0)\n",
    "plank = 5\n",
    "menit = 0\n",
    "menit1 = 0\n",
    "menit2 = 0\n",
    "menit3 = 0\n",
    "\n",
    "print('''Kalori per menit\n",
    "Lari = {} kalori.\n",
    "Push Up = {} kalori atau {} kalori.\n",
    "Plank = {} kalori.\n",
    "'''.format(lari,push_upA,push_up,plank))\n",
    "print('==================================')\n",
    "print(\"1.Lari saja\")\n",
    "print(\"2.Lari dan Push Up\")\n",
    "print(\"3.Lari dan Plank\")\n",
    "print(\"4.Push Up dan Plank\")\n",
    "print(\"5.Lari, Push Up, dan Plank\")\n",
    "print('==================================')   \n",
    "\n",
    "#pilihan\n",
    "pilihan = int(input(\"Masukan pilihan olahraga :\"))\n",
    "\n",
    "#pilihan 1\n",
    "if pilihan == 1:\n",
    "    menit += int(input('Masukan berapa lama anda lari(menit) :'))\n",
    "    lari *= menit\n",
    "    print('Jumlah Kalori yang dibakar setelah anda lari selama {} menit adalah {} kalori'.format(menit,lari))\n",
    "\n",
    "#pilihan 2    \n",
    "elif pilihan == 2:\n",
    "    menit1 += int(input('Masukan berapa lama anda lari(menit) :'))\n",
    "    lari *= menit1\n",
    "    print('- Kalori yang di bakar = ',lari)\n",
    "    menit2 += int(input('Masukan berapa lama anda push up(menit) :'))\n",
    "    push_up *= menit2\n",
    "    print('- Kalori yang di bakar = ',push_up)\n",
    "    print('Jumlah Kalori yang dibakar setelah anda lari dan push up selama {} menit adalah {} kalori'.format(menit1+menit2,lari+push_up))\n",
    "\n",
    "#pilihan 3\n",
    "elif pilihan == 3:\n",
    "    menit1 += int(input('Masukan berapa lama anda lari(menit) :'))\n",
    "    lari *= menit1\n",
    "    print('- Kalori yang di bakar = ',lari)\n",
    "    menit2 += int(input('Masukan berapa lama anda plank(menit) :'))\n",
    "    plank *= menit2\n",
    "    print('- Kalori yang di bakar = ',plank)\n",
    "    print('Jumlah Kalori yang dibakar setelah anda lari dan plank selama {} menit adalah {} kalori'.format(menit1+menit2,lari+plank))\n",
    "\n",
    "#pilihan 4    \n",
    "elif pilihan == 4:\n",
    "    menit1 = int(input('Masukan berapa lama anda push up(menit) :'))\n",
    "    push_up *= menit1\n",
    "    print('- Kalori yang di bakar = ',push_up)\n",
    "    menit2 = int(input('Masukan berapa lama anda lank(menit) :'))\n",
    "    plank *= menit2\n",
    "    print('- Kalori yang di bakar = ',plank)\n",
    "    print('Jumlah Kalori yang dibakar setelah anda push_up dan plank selama {} menit adalah {} kalori'.format(menit1+menit2,push_up+plank))\n",
    "\n",
    "#pilihan 5   \n",
    "elif pilihan == 5:\n",
    "    menit1 = int(input('Masukan berapa lama anda lari(menit) :'))\n",
    "    lari *= menit1\n",
    "    print('- Kalori yang di bakar = ',lari)\n",
    "    menit2 = int(input('Masukan berapa lama anda push up(menit) :'))\n",
    "    push_up *= menit2\n",
    "    print('- Kalori yang di bakat = ',push_up)\n",
    "    menit3 = int(input('Masukan berapa lama anda plank(menit) :'))\n",
    "    plank *= menit3\n",
    "    print('- Kalori yang di bakat = ',plank)\n",
    "    print('Jumlah Kalori yang dibakar setelah anda lari,push up, dan plank selama {} menit adalah {} kalori'.format(menit1+menit2+menit3,lari+push_up+plank))\n",
    "else:\n",
    "    print('Input Salah')"
   ]
  }
 ],
 "metadata": {
  "kernelspec": {
   "display_name": "Python 3 (ipykernel)",
   "language": "python",
   "name": "python3"
  },
  "language_info": {
   "codemirror_mode": {
    "name": "ipython",
    "version": 3
   },
   "file_extension": ".py",
   "mimetype": "text/x-python",
   "name": "python",
   "nbconvert_exporter": "python",
   "pygments_lexer": "ipython3",
   "version": "3.9.12"
  }
 },
 "nbformat": 4,
 "nbformat_minor": 5
}
