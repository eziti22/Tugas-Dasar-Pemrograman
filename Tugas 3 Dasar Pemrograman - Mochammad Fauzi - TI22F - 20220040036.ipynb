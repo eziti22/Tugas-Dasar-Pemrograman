{
 "cells": [
  {
   "cell_type": "code",
   "execution_count": 74,
   "metadata": {},
   "outputs": [],
   "source": [
    "batas = '-----------------------'"
   ]
  },
  {
   "cell_type": "code",
   "execution_count": 75,
   "metadata": {},
   "outputs": [
    {
     "name": "stdout",
     "output_type": "stream",
     "text": [
      "Tipe data\n",
      "-----------------------\n",
      "1. Tipe data Boolean adalah tipe data \n",
      "yang menyatakan benar True yang bernilai 1, atau salah False yang bernilai 0\n",
      "Contoh tipe data Boolean\n",
      "True\n",
      "-----------------------\n"
     ]
    },
    {
     "data": {
      "text/plain": [
       "bool"
      ]
     },
     "execution_count": 75,
     "metadata": {},
     "output_type": "execute_result"
    }
   ],
   "source": [
    "#Nomor 1#\n",
    "\n",
    "##Tipe-tipe data##\n",
    "print('Tipe data')\n",
    "print(batas)\n",
    "#1. Tipe data Boolean#\n",
    "print(\"1. Tipe data Boolean adalah tipe data \\nyang menyatakan benar True yang bernilai 1, atau salah False yang bernilai 0\")\n",
    "\n",
    "#contoh#\n",
    "a = True\n",
    "print('Contoh tipe data Boolean')\n",
    "print(a)\n",
    "print(batas)\n",
    "type(a)\n"
   ]
  },
  {
   "cell_type": "code",
   "execution_count": 76,
   "metadata": {},
   "outputs": [
    {
     "name": "stdout",
     "output_type": "stream",
     "text": [
      "2. Tipe data String adalah tipe data yang \n",
      "Menyatakan karakter/kalimat bisa berupa huruf angka, dll\n",
      "Contoh tipe data String\n",
      "Ini adalah contoh data tipe String\n",
      "-----------------------\n"
     ]
    },
    {
     "data": {
      "text/plain": [
       "str"
      ]
     },
     "execution_count": 76,
     "metadata": {},
     "output_type": "execute_result"
    }
   ],
   "source": [
    "#2. Tipe data String#\n",
    "print ('2. Tipe data String adalah tipe data yang \\nMenyatakan karakter/kalimat bisa berupa huruf angka, dll')\n",
    "\n",
    "#contoh#\n",
    "b = 'Ini adalah contoh data tipe String'\n",
    "print('Contoh tipe data String')\n",
    "print(b)\n",
    "print(batas)\n",
    "type(b)\n"
   ]
  },
  {
   "cell_type": "code",
   "execution_count": 77,
   "metadata": {},
   "outputs": [
    {
     "name": "stdout",
     "output_type": "stream",
     "text": [
      "3. Tipe data Integer adalah tipe data yang Menyatakan bilangan bulat\n",
      "Contoh tipe data Integer\n",
      "15\n",
      "-----------------------\n"
     ]
    },
    {
     "data": {
      "text/plain": [
       "int"
      ]
     },
     "execution_count": 77,
     "metadata": {},
     "output_type": "execute_result"
    }
   ],
   "source": [
    "#3. Tipe data Integer#\n",
    "print('3. Tipe data Integer adalah tipe data yang Menyatakan bilangan bulat')\n",
    "\n",
    "#contoh#\n",
    "c = 15\n",
    "print('Contoh tipe data Integer')\n",
    "print(c)\n",
    "print(batas)\n",
    "type(c)\n"
   ]
  },
  {
   "cell_type": "code",
   "execution_count": 78,
   "metadata": {},
   "outputs": [
    {
     "name": "stdout",
     "output_type": "stream",
     "text": [
      "4. Tipe data Float adalah tipe data yang menyatakan bilangan desimal \n",
      "atau bilangan yang memiliki koma\n",
      "Contoh tipe data Float\n",
      "3.14\n",
      "-----------------------\n"
     ]
    },
    {
     "data": {
      "text/plain": [
       "float"
      ]
     },
     "execution_count": 78,
     "metadata": {},
     "output_type": "execute_result"
    }
   ],
   "source": [
    "#4. Tipe data Float#\n",
    "print('4. Tipe data Float adalah tipe data yang menyatakan bilangan desimal \\natau bilangan yang memiliki koma')\n",
    "\n",
    "#contoh#\n",
    "d = 3.14\n",
    "print('Contoh tipe data Float')\n",
    "print(d)\n",
    "print(batas)\n",
    "type(d)\n"
   ]
  },
  {
   "cell_type": "code",
   "execution_count": 79,
   "metadata": {},
   "outputs": [
    {
     "name": "stdout",
     "output_type": "stream",
     "text": [
      "Data lainnya yang bisa ditemui di bahasa python\n",
      "Tipe data complex\n",
      "5j\n",
      "Tipe data List\n",
      "[1, 2, 3, 4, 5]\n",
      "['satu', 'dua', 'tiga']\n",
      "Tipe data Tuple\n",
      "(1, 2, 3, 4, 5)\n",
      "('satu', 'dua', 'tiga')\n",
      "Tipe data Dictionary\n",
      "{'nama': 'Budi', 'umur': 20}\n"
     ]
    }
   ],
   "source": [
    "#5. Tipe data lainnya#\n",
    "print('Data lainnya yang bisa ditemui di bahasa python')\n",
    "\n",
    "#tipe data Complex\n",
    "print('Tipe data complex')\n",
    "print(5j)\n",
    "#tipe data List\n",
    "print('Tipe data List')\n",
    "print([1,2,3,4,5])\n",
    "print([\"satu\", \"dua\", \"tiga\"])\n",
    "\n",
    "#tipe data Tuple\n",
    "print('Tipe data Tuple')\n",
    "print((1,2,3,4,5))\n",
    "print((\"satu\", \"dua\", \"tiga\"))\n",
    "\n",
    "#tipe data Dictionary\n",
    "print('Tipe data Dictionary')\n",
    "print({\"nama\":\"Budi\", 'umur':20})\n",
    "\n",
    "print(batas)"
   ]
  },
  {
   "cell_type": "code",
   "execution_count": 80,
   "metadata": {},
   "outputs": [
    {
     "name": "stdout",
     "output_type": "stream",
     "text": [
      "Mochammad Fauzi Dwi Rusdiansyah\n",
      "20220040036\n",
      "089516808862\n"
     ]
    }
   ],
   "source": [
    "#Nomor 2#\n",
    "# Komentar #\n",
    "\n",
    "nama = 'Mochammad Fauzi Dwi Rusdiansyah'\n",
    "nim = '20220040036'\n",
    "nomor_telepon = '089516808862'\n",
    "\n",
    "print(nama)\n",
    "print(nim)\n",
    "print(nomor_telepon)"
   ]
  },
  {
   "cell_type": "code",
   "execution_count": 81,
   "metadata": {},
   "outputs": [
    {
     "name": "stdout",
     "output_type": "stream",
     "text": [
      "Angka pertama =  5000\n",
      "Angka kedua =  2000\n",
      "Angka Ketiga =  200\n",
      "Tambahkan Angka pertama dengan 200 =  5200\n",
      "Tambahkan Angka kedua dengan 200 =  2200\n",
      "hasil Angka pertama + Angka kedua - angka ketiga = \n",
      "7200\n"
     ]
    }
   ],
   "source": [
    "#Nomor 3#\n",
    "\n",
    "a1 = 5000\n",
    "a2 = 2000\n",
    "a3 = 200\n",
    "\n",
    "print('Angka pertama = ',a1)\n",
    "print('Angka kedua = ',a2)\n",
    "print('Angka Ketiga = ',a3)\n",
    "a1_1 = a1 + 200\n",
    "print('Tambahkan Angka pertama dengan 200 = ',a1_1)\n",
    "a2_1 = a2 + 200\n",
    "print('Tambahkan Angka kedua dengan 200 = ', a2_1)\n",
    "a4 = a1_1 + a2_1 - a3\n",
    "print('hasil Angka pertama + Angka kedua - angka ketiga = ')\n",
    "print(a4)\n",
    "\n",
    "print(batas)"
   ]
  },
  {
   "cell_type": "code",
   "execution_count": 82,
   "metadata": {},
   "outputs": [
    {
     "name": "stdout",
     "output_type": "stream",
     "text": [
      "Keliling lingkaran adalah\n",
      "31.400000000000002\n",
      "-----------------------\n"
     ]
    }
   ],
   "source": [
    "## Nomor 4 ##\n",
    "\n",
    "#keliling lingkaran#\n",
    "\n",
    "r = float(input(\"Masukan Nilai jari-jari \"))\n",
    "\n",
    "phi = 3.14\n",
    "d = 2*r\n",
    "keliling = phi*d\n",
    "print('Keliling lingkaran adalah')\n",
    "print(keliling)\n",
    "\n",
    "print(batas)\n"
   ]
  },
  {
   "cell_type": "code",
   "execution_count": 83,
   "metadata": {},
   "outputs": [
    {
     "name": "stdout",
     "output_type": "stream",
     "text": [
      "Volume kubus =  210\n"
     ]
    }
   ],
   "source": [
    "# Volume kubus #\n",
    "\n",
    "p = int(input(\"Masukan panjang\"))\n",
    "l = int(input(\"Masukan lebar\"))\n",
    "t = int(input(\"Masukan tinggi\"))\n",
    "\n",
    "volume = p * l * t\n",
    "\n",
    "print(\"Volume kubus = \",volume)\n",
    "\n",
    "print(batas)"
   ]
  },
  {
   "cell_type": "code",
   "execution_count": null,
   "metadata": {},
   "outputs": [],
   "source": []
  }
 ],
 "metadata": {
  "kernelspec": {
   "display_name": "Python 3.10.7 64-bit",
   "language": "python",
   "name": "python3"
  },
  "language_info": {
   "codemirror_mode": {
    "name": "ipython",
    "version": 3
   },
   "file_extension": ".py",
   "mimetype": "text/x-python",
   "name": "python",
   "nbconvert_exporter": "python",
   "pygments_lexer": "ipython3",
   "version": "3.10.7"
  },
  "orig_nbformat": 4,
  "vscode": {
   "interpreter": {
    "hash": "51aeea4e883728daf977104d1c6204be03a693a6e37e6564a5dca7cddca33bc7"
   }
  }
 },
 "nbformat": 4,
 "nbformat_minor": 2
}
