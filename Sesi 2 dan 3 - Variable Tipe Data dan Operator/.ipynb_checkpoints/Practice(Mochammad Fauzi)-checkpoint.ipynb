{
 "cells": [
  {
   "cell_type": "markdown",
   "metadata": {},
   "source": [
    "<h1>Praktikum Variabel & Tipe Data</h1>\n",
    "\n",
    "<h3>Soal 1</h3>\n",
    "Kiki belanja ke alf$$a M$a$r$t membeli 3 hepitos, 2 silperkuin, telor 2kg, beras 5kg, isi ulang akua galon seharga Rp 13.000. Harga hepitos yaitu Rp 15.000, telor Rp 13.000/kg, silperkuin Rp 21.000 beras kemasan 2.5kg seharga Rp 20.000. Toko tersebut memberikan discount 5%, ketika customer membeli makanan lebih dari 3 jenis. Berapakah total bayar belanjaan dari Kiki?\n"
   ]
  },
  {
   "cell_type": "markdown",
   "metadata": {},
   "source": [
    "<h1>Analyze Here</h1>\n",
    "<ul>\n",
    "    <li>Tentukan variabel untuk benda2 yang kiki beli dan diskon yang di berikan apabila kiki membeli lebih dari 3 jenis makanan.</li>\n",
    "    <li>Variabel tersebut adalah hepitos, silperkuin, telor, beras, galon, dan diskon.</li>\n",
    "    <li>Tentukan juga nilai yang berupa harga dari masing2 variabel.</li>\n",
    "    <li>Setelah itu kalikan dengan banyaknya barang yang di beli.(Beras dikalikan 2 karena harga beras tersebut merupakan beras kemasan 2.5kg)</li>\n",
    "    <li>Setelah ditemukan total belanja kiki. Kurangi total tersebut dengan harga yang sudah di kalikan dengan diskon dari total belanja.</li>\n",
    "    <li>Maka ditemukanlah total yang harus dibayar kiki setelah mendapatkan diskon karena kiki membeli lebih dari 3 jenis makanan.</li>\n",
    "</ul>"
   ]
  },
  {
   "cell_type": "code",
   "execution_count": null,
   "metadata": {},
   "outputs": [],
   "source": [
    "#Code Here\n",
    "hepitos = 15000\n",
    "silperkuin = 21000\n",
    "telor = 13000\n",
    "beras = 20000\n",
    "galon = 13000\n",
    "diskon = 5/100\n",
    "\n",
    "belanja = 3*hepitos + 2*silperkuin + 2*telor + 2*beras + galon\n",
    "bayar = belanja - (belanja * diskon)\n",
    "\n",
    "print(f\"Total yang harus di bayar kiki adalah {bayar}\")"
   ]
  },
  {
   "cell_type": "markdown",
   "metadata": {},
   "source": [
    "<h3>Soal 2</h3>\n",
    "Roni menabung pada bulan agustus yaitu setiap tanggal ganjil sejumlah Rp 50.000, setiap tanggal genap sejumlah RP 10.000 dan setiap tanggal kelipatan 5 sejumlah Rp 5.000, Berapakah total tabungan Roni diakhir bulan?"
   ]
  },
  {
   "cell_type": "markdown",
   "metadata": {},
   "source": [
    "<h1>Analyze Here</h1>\n",
    "<p>\n",
    "&nbsp;&nbsp;&nbsp;&nbsp; Pertama, kita harus menentukan dulu berapa banyak tanggal ganjil, tanggal genap, dan tanggal dengan kelipatan 5 pada bulan agustus. Bulan agustus memiliki 31 hari. Dengan menentukan tanggal dengan range pada variabel 'tanggal', kita dapat menghitung ganjil, genap, maupun kelipatan 5 dari setiap tanggal.<br/>\n",
    "&nbsp;&nbsp;&nbsp;&nbsp; Penulisan 'range(1,32)' berarti kita akan menghitung masing2 tanggal dari tanggal 1 sampai tanggal 31 (rumus range yaitu range(bilanganAwal,bilanganAkhir+1)). Setelah itu kita tentukan variabelnya yaitu ganjil, genap, dan kelipatan.<br/>\n",
    "&nbsp;&nbsp;&nbsp;&nbsp; Selanjutnya kita gunakan 'x' sebagai variabel bilangan/tanggal yang ada dalam range dan gunakan loop if else untuk membagi habis x dengan 2 (modulus). Apabila modulus x atau sisa bagi x = 0, maka bilangan/tanggal tersebut merupakan tanggal ganjil. Apabila tidak, tanggal tersebut merupakan tanggal genap.<br/>\n",
    "&nbsp;&nbsp;&nbsp;&nbsp; Lakukan juga loop if pada kelipatan dengan membagi habis x dengan 5.\n",
    "    <hr/>\n",
    "&nbsp;&nbsp;&nbsp;&nbsp; Lanjutkan mengalikan masing2 jumlah tanggal ganjil, genap, dan kelipatan 5 dengan berapa roni menabung pada setiap tanggal tersebut. Lalu dijumlahkan totalnya. Maka akan ditemukan berapa total tabungan roni pada akhir bulan.\n",
    "\n",
    "</p>"
   ]
  },
  {
   "cell_type": "code",
   "execution_count": 8,
   "metadata": {},
   "outputs": [
    {
     "name": "stdout",
     "output_type": "stream",
     "text": [
      "Total tanggal ganjil pada bulan agustus adalah 16 hari\n",
      "Total tanggal genap pada bulan agustus adalah 15 hari\n",
      "Total tanggal dengan kelipatan 5 pada bulan agustus adalah 6 hari\n",
      "Total tabungan Roni di akhir bulan adalah sebanyak 980000.\n"
     ]
    }
   ],
   "source": [
    "#menentukan banyaknya tanggal ganjil, genap, dan tanggal kelipatan 5\n",
    "tanggal = list(range(1,32))\n",
    "ganjil = 0\n",
    "genap = 0\n",
    "kelipatan = 0\n",
    "for x in tanggal: #menghitung tanggal ganjil dan genap\n",
    "    if x % 2==0:\n",
    "        genap+=1\n",
    "    else:\n",
    "        ganjil+=1\n",
    "    if x % 5==0:\n",
    "        kelipatan +=1\n",
    "        \n",
    "print(f\"Total tanggal ganjil pada bulan agustus adalah {ganjil} hari\")\n",
    "print(f\"Total tanggal genap pada bulan agustus adalah {genap} hari\")\n",
    "print(f\"Total tanggal dengan kelipatan 5 pada bulan agustus adalah {kelipatan} hari\")\n",
    "\n",
    "NabungGanjil = ganjil * 50000\n",
    "NabungGenap = genap * 10000\n",
    "NabungKelipatan_5 = kelipatan * 5000\n",
    "\n",
    "total = NabungGanjil + NabungGenap + NabungKelipatan_5\n",
    "\n",
    "print(f\"Total tabungan Roni di akhir bulan adalah sebanyak {total}.\")"
   ]
  },
  {
   "cell_type": "markdown",
   "metadata": {},
   "source": [
    "<h3>Soal 3</h3>\n",
    "Saat hari raya, Deni ingin menukarkan uang sejumlah Rp 5.000.000 ke pecahan 20rb, 10rb, 5rb, 2rb. berapa jumlahnya yang didapatkan Deni jika 20rb maksimal 100, 10rb maksimal 50.Jika :\n",
    "<ol>\n",
    "    <li>3(a)Semua pecahan harus ada</li>\n",
    "    <li>3(b)Hanya pecahan 20rb, 10rb dan 5rb</li>\n",
    "    <li>3(c)Hanya pecahan 20rb, 10rb dan 2rb</li>\n",
    "</ol>"
   ]
  },
  {
   "cell_type": "markdown",
   "metadata": {},
   "source": [
    "<h1>Analyze Here</h1>\n",
    "....."
   ]
  },
  {
   "cell_type": "code",
   "execution_count": 36,
   "metadata": {},
   "outputs": [
    {
     "name": "stdout",
     "output_type": "stream",
     "text": [
      "3a)\n",
      "-Semua Pecahan Harus Ada-\n",
      "Pecahan 20rb sebanyak 100 lembar dengan jumlah 2000000\n",
      "Pecahan 10rb sebanyak 50 lembar dengan jumlah 500000\n",
      "Pecahan 5rb sebanyak 250 lembar dengan jumlah 1250000\n",
      "Pecahan 2rb sebanyak 625 lembar dengan jumlah 1250000\n",
      "3b)\n",
      "-Hanya pecahan 20rb, 10rb dan 5rb-\n",
      "Pecahan 20rb sebanyak 100 lembar dengan jumlah 2000000\n",
      "Pecahan 10rb sebanyak 50 lembar dengan jumlah 500000\n",
      "Pecahan 5rb sebanyak 500 lembar dengan jumlah 2500000\n",
      "3c)\n",
      "-Hanya pecahan 20rb, 10rb dan 2rb-\n",
      "Pecahan 20rb sebanyak 100 lembar dengan jumlah 2000000\n",
      "Pecahan 10rb sebanyak 50 lembar dengan jumlah 500000\n",
      "Pecahan 5rb sebanyak 1250 lembar dengan jumlah 2500000\n"
     ]
    }
   ],
   "source": [
    "uang = 5000000\n",
    "a = 100\n",
    "b = 50\n",
    "pecahan_20rb = 20000*a\n",
    "pecahan_10rb = 10000*b\n",
    "pecahan_5rb = 5000\n",
    "pecahan_2rb = 2000\n",
    "\n",
    "sisa = uang - pecahan_20rb - pecahan_10rb\n",
    "#3a\n",
    "print(\"3a)\")\n",
    "sisa_a2 = sisa/2\n",
    "banyak5rb = sisa_a2 / pecahan_5rb\n",
    "banyak2rb = sisa_a2 / pecahan_2rb\n",
    "print(\"-Semua Pecahan Harus Ada-\")\n",
    "print(f\"Pecahan 20rb sebanyak {a} lembar dengan jumlah {pecahan_20rb}\")\n",
    "print(f\"Pecahan 10rb sebanyak {b} lembar dengan jumlah {pecahan_10rb}\")\n",
    "print(f\"Pecahan 5rb sebanyak {int(banyak5rb)} lembar dengan jumlah {int(pecahan_5rb*banyak5rb)}\")\n",
    "print(f\"Pecahan 2rb sebanyak {int(banyak2rb)} lembar dengan jumlah {int(pecahan_2rb*banyak2rb)}\")\n",
    "\n",
    "#3b\n",
    "print(\"3b)\")\n",
    "banyak5rb_2 = sisa / pecahan_5rb\n",
    "print(\"-Hanya pecahan 20rb, 10rb dan 5rb-\")\n",
    "print(f\"Pecahan 20rb sebanyak {a} lembar dengan jumlah {pecahan_20rb}\")\n",
    "print(f\"Pecahan 10rb sebanyak {b} lembar dengan jumlah {pecahan_10rb}\")\n",
    "print(f\"Pecahan 5rb sebanyak {int (banyak5rb_2)} lembar dengan jumlah {int(pecahan_5rb*banyak5rb_2)}\")\n",
    "\n",
    "#3c\n",
    "print(\"3c)\")\n",
    "banyak2rb_2 = sisa / pecahan_2rb\n",
    "print(\"-Hanya pecahan 20rb, 10rb dan 2rb-\")\n",
    "print(f\"Pecahan 20rb sebanyak {a} lembar dengan jumlah {pecahan_20rb}\")\n",
    "print(f\"Pecahan 10rb sebanyak {b} lembar dengan jumlah {pecahan_10rb}\")\n",
    "print(f\"Pecahan 5rb sebanyak {int(banyak2rb_2)} lembar dengan jumlah {int(pecahan_2rb*banyak2rb_2)}\")"
   ]
  },
  {
   "cell_type": "markdown",
   "metadata": {},
   "source": [
    "<h3>Soal 4</h3>\n",
    "Berapakah hasil dari (10/23-6+4-(20//3%2)) ?\n",
    "Lakukan analisa perhitungan dari hasil tersebut!\n",
    "Berdasarkan hasil tersebut urutkan operator yang dikerjakan!"
   ]
  },
  {
   "cell_type": "markdown",
   "metadata": {},
   "source": [
    "<h1>Analyze Here</h1>\n",
    "<p>Hasil dari operasi 10/23-6+4-(20//3%2) adalah  -1.5652173913043477<br>\n",
    "Terdapat 2 operasi<br>\n",
    "- Operasi pertama ada operasi bagi kurang pada 10/23-6 , dengan hasil =  -5.565217391304348<br>\n",
    "Ini bisa dibuktikan dari hasil pembagian 10/23 dengan dikurangi 6, yaitu 0.43478260869565216 - 6 = -5.565217391304348<br>\n",
    "- Operasi kedua yaitu operasi kurang sisa bagi pada 4-(20//3%2), dengan hasil =  4<br>\n",
    "Ini bisa dibuktikan dari hasil pengurangan 4 deangan hasil sisa bagi (20//3%2), yaitu 4 - 0 = 4<br>\n",
    "- Kedua operasi tersebut di jumlahkan dan mendapatkan nilai =  -1.5652173913043477</p>"
   ]
  },
  {
   "cell_type": "code",
   "execution_count": 15,
   "metadata": {},
   "outputs": [
    {
     "name": "stdout",
     "output_type": "stream",
     "text": [
      "Hasil 10/23-6+4-(20//3%2) =  -1.5652173913043477\n",
      "2 operasi\n",
      "- Operasi pertama, 10/23-6 =  -5.565217391304348\n",
      "Hasil pembagian 10/23 dikurangi 6, yaitu 0.43478260869565216 - 6 = -5.565217391304348\n",
      "- Operasi kedua, 4-(20//3%2) =  4\n",
      "Hasil 4 dikurangi hasil sisa bagi (20//3%2), yaitu 4 - 0 = 4\n",
      "- Kedua operasi dijumlahkan =  -1.5652173913043477\n"
     ]
    }
   ],
   "source": [
    "#Code here\n",
    "\n",
    "hasil = (10/23-6+4-(20//3%2))\n",
    "print(\"Hasil 10/23-6+4-(20//3%2) = \",hasil)\n",
    "\n",
    "print(\"2 operasi\")\n",
    "op1 = 10/23-6\n",
    "op2 = 4-(20//3%2)\n",
    "print(\"- Operasi pertama, 10/23-6 = \",op1)\n",
    "op1_1 = 10/23\n",
    "bukti1 = op1_1 - 6\n",
    "print('Hasil pembagian 10/23 dikurangi 6, yaitu {} - 6 = {}'.format(op1_1,bukti1))\n",
    "print(\"- Operasi kedua, 4-(20//3%2) = \",op2)\n",
    "op2_1 = (20//3%2)\n",
    "bukti2 = 4 - op2_1\n",
    "print(\"Hasil 4 dikurangi hasil sisa bagi (20//3%2), yaitu 4 - {} = {}\".format(op2_1,bukti2))\n",
    "\n",
    "hasil = op1 + op2\n",
    "print(\"- Kedua operasi dijumlahkan = \",hasil)"
   ]
  },
  {
   "cell_type": "markdown",
   "metadata": {},
   "source": [
    "<h3>Soal 5</h3>\n",
    "Jika terdapat string yaitu \"UFLOPYXTKJACSWRBGQZVDMEHIN\", maka susunlah nama kalian masing-masing dari data tersebut, berdasarkan index dari masing-masing huruf yang ada pada string tersebut!\n"
   ]
  },
  {
   "cell_type": "markdown",
   "metadata": {},
   "source": [
    "<h1>Analyze Here</h1>\n",
    "<ol> Menyusun nama dari string dengan indexing.\n",
    "    <li>Tentukan String</li>\n",
    "    <li>Cari nomor index dari setiap huruf pada nama kita dari string</li>\n",
    "    <li>Setelah ditemukan masing2 indexnya, gabungkan index tersebut dan tampilkan</li>"
   ]
  },
  {
   "cell_type": "code",
   "execution_count": 9,
   "metadata": {},
   "outputs": [
    {
     "name": "stdout",
     "output_type": "stream",
     "text": [
      "Index Huruf F adalah 1\n",
      "Index Huruf A adalah 10\n",
      "Index Huruf U adalah 0\n",
      "Index Huruf Z adalah 18\n",
      "Index Huruf I adalah 24\n",
      "Maka dapat dibentuk dari index tersebut adalah FAUZI\n",
      "atau\n",
      "F A U Z I\n"
     ]
    }
   ],
   "source": [
    "kata = \"UFLOPYXTKJACSWRBGQZVDMEHIN\"\n",
    "\n",
    "#indexing / mencari index keberapa huruf yang di cari\n",
    "huruf_f = kata.index(\"F\")\n",
    "huruf_a = kata.index(\"A\")\n",
    "huruf_u = kata.index(\"U\")\n",
    "huruf_z = kata.index(\"Z\")\n",
    "huruf_i = kata.index(\"I\")\n",
    "print(f\"Index Huruf F adalah {huruf_f}\")\n",
    "print(f\"Index Huruf A adalah {huruf_a}\")\n",
    "print(f\"Index Huruf U adalah {huruf_u}\")\n",
    "print(f\"Index Huruf Z adalah {huruf_z}\")\n",
    "print(f\"Index Huruf I adalah {huruf_i}\")\n",
    "\n",
    "#membentuk nama dari index di atas\n",
    "\n",
    "nama = kata[1] + kata[10] + kata[0] + kata[18] + kata[24]\n",
    "print(f\"Maka dapat dibentuk dari index tersebut adalah {nama}\")\n",
    "\n",
    "#atau\n",
    "print(\"atau\")\n",
    "print(kata[1],kata[10],kata[0],kata[18],kata[24])"
   ]
  },
  {
   "cell_type": "code",
   "execution_count": null,
   "metadata": {},
   "outputs": [],
   "source": []
  }
 ],
 "metadata": {
  "kernelspec": {
   "display_name": "Python 3 (ipykernel)",
   "language": "python",
   "name": "python3"
  },
  "language_info": {
   "codemirror_mode": {
    "name": "ipython",
    "version": 3
   },
   "file_extension": ".py",
   "mimetype": "text/x-python",
   "name": "python",
   "nbconvert_exporter": "python",
   "pygments_lexer": "ipython3",
   "version": "3.9.12"
  }
 },
 "nbformat": 4,
 "nbformat_minor": 4
}
