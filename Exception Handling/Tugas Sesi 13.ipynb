{
 "cells": [
  {
   "cell_type": "markdown",
   "metadata": {},
   "source": [
    "<h1>Tugas Sesi 13</h1>\n",
    "<h2>Mochammad Fauzi Dwi Rusdiansyah<br>\n",
    "20220040036 - TI22F\n",
    "</h2>\n",
    "<ol>\n",
    "    <li>Kapan pengecualian bawaan berikut dimunculkan? Berikan contoh untuk mendukung jawaban Anda. (<i>score = 70</i>)</li>\n",
    "    <ol type=\"a\">\n",
    "        <li>ImportError</li>\n",
    "        <li>IOError</li>\n",
    "        <li>NameError</li>\n",
    "        <li>ZeroDivisionError</li>\n",
    "    </ol>\n",
    "    <li>Jelaskan hal berikut: (<i>score = 30</i>)</li>\n",
    "    <ol type=\"a\">\n",
    "        <li>Exception Handling</li>\n",
    "        <li>Menangkap exception</li>\n",
    "    </ol>\n",
    "</ol>"
   ]
  },
  {
   "cell_type": "markdown",
   "metadata": {},
   "source": [
    "\n",
    "<h2>1. Pengecualiaan Bawaan</h2>\n",
    "<h2>ImportError</h2>\n",
    "<p>a. ImportError muncul ketika kita mencoba untuk mengimport modul yang tidak ada atau tidak dapat diakses. Contoh kasus coding:</br>\n",
    "Dalam kasus ini, kita akan mencoba untuk mengimport fungsi 'error' dalam modul 'module' yang didalam nya tidak terdapat fungsi tersebut sehingga menyebabkan error.\n",
    "</p>"
   ]
  },
  {
   "cell_type": "code",
   "execution_count": 37,
   "metadata": {},
   "outputs": [
    {
     "ename": "ImportError",
     "evalue": "cannot import name 'error' from 'module' (c:\\Users\\Ezi\\Tugas-Dasar-Pemrograman\\Exception Handling\\module.py)",
     "output_type": "error",
     "traceback": [
      "\u001b[1;31m---------------------------------------------------------------------------\u001b[0m",
      "\u001b[1;31mImportError\u001b[0m                               Traceback (most recent call last)",
      "Cell \u001b[1;32mIn [37], line 1\u001b[0m\n\u001b[1;32m----> 1\u001b[0m \u001b[39mfrom\u001b[39;00m \u001b[39mmodule\u001b[39;00m \u001b[39mimport\u001b[39;00m error\n\u001b[0;32m      2\u001b[0m kalimat \u001b[39m=\u001b[39m \u001b[39m'\u001b[39m\u001b[39mMencari Total Huruf Besar (UPPERCASE) Dalam Sebuah Kalimat\u001b[39m\u001b[39m'\u001b[39m \u001b[39m#menggunakan coding sesi sebelumnya\u001b[39;00m\n\u001b[0;32m      3\u001b[0m \u001b[39mprint\u001b[39m(kalimat)\n",
      "\u001b[1;31mImportError\u001b[0m: cannot import name 'error' from 'module' (c:\\Users\\Ezi\\Tugas-Dasar-Pemrograman\\Exception Handling\\module.py)"
     ]
    }
   ],
   "source": [
    "from module import error\n",
    "kalimat = 'Mencari Total Huruf Besar (UPPERCASE) Dalam Sebuah Kalimat' #menggunakan coding sesi sebelumnya\n",
    "print(kalimat)\n",
    "print(uppercase.countUppercase(kalimat))\n",
    "print(uppercase.countUppercase2(kalimat))\n"
   ]
  },
  {
   "cell_type": "markdown",
   "metadata": {},
   "source": [
    "<p> Dalam kode tersebut, output merupakan error yang terdapat pada baris 2 yang merupakan ImportError.<br>\n",
    "    Hal itu karena tidak dapat mengimport fungsi 'error' pada modul 'module' karena fungsi tersebut memang tidak ada.\n",
    "</p>\n",
    "<p>--------------------------------------------------------------------------------------------------------------------------</p>"
   ]
  },
  {
   "cell_type": "markdown",
   "metadata": {},
   "source": [
    "<h2>IOError</h2>\n",
    "<p>b. IOError muncul ketika terjadi masalah dengan input/output, seperti mencoba membuka file yang tidak ada. Contoh kasus coding:<br>\n",
    "    Kita akan mencoba memanggil/membuka file 'IOError.txt' dengan mode 'r' (read).\n",
    "</p>"
   ]
  },
  {
   "cell_type": "code",
   "execution_count": 34,
   "metadata": {},
   "outputs": [
    {
     "ename": "FileNotFoundError",
     "evalue": "[Errno 2] No such file or directory: 'dokumen.txt'",
     "output_type": "error",
     "traceback": [
      "\u001b[1;31m---------------------------------------------------------------------------\u001b[0m",
      "\u001b[1;31mFileNotFoundError\u001b[0m                         Traceback (most recent call last)",
      "Cell \u001b[1;32mIn [34], line 1\u001b[0m\n\u001b[1;32m----> 1\u001b[0m \u001b[39mwith\u001b[39;00m \u001b[39mopen\u001b[39;49m(\u001b[39m\"\u001b[39;49m\u001b[39mdokumen.txt\u001b[39;49m\u001b[39m\"\u001b[39;49m, \u001b[39m\"\u001b[39;49m\u001b[39mr\u001b[39;49m\u001b[39m\"\u001b[39;49m) \u001b[39mas\u001b[39;00m dok:\n\u001b[0;32m      2\u001b[0m     \u001b[39mprint\u001b[39m(dok\u001b[39m.\u001b[39mread())\n",
      "\u001b[1;31mFileNotFoundError\u001b[0m: [Errno 2] No such file or directory: 'dokumen.txt'"
     ]
    }
   ],
   "source": [
    "file = open(\"IOError.txt\",\"r\")"
   ]
  },
  {
   "cell_type": "markdown",
   "metadata": {},
   "source": [
    "<p>Kode diatas menyebabkan output error yang menandakan bahwa file yang akan kita buka tidak ada.</p>\n",
    "<p>--------------------------------------------------------------------------------------------------------------------------</p>"
   ]
  },
  {
   "cell_type": "markdown",
   "metadata": {},
   "source": [
    "<h2>NameError</h2>\n",
    "<p>c. NameError muncul ketika kita mencoba untuk mengakses variabel atau fungsi yang tidak didefinisikan. Contoh kasus coding:<br>\n",
    "    Kita akan memanggil variable 'phi' pada sebuah operasi mencari luas lingkaran.\n",
    "</p>"
   ]
  },
  {
   "cell_type": "code",
   "execution_count": 35,
   "metadata": {},
   "outputs": [
    {
     "ename": "NameError",
     "evalue": "name 'phi' is not defined",
     "output_type": "error",
     "traceback": [
      "\u001b[1;31m---------------------------------------------------------------------------\u001b[0m",
      "\u001b[1;31mNameError\u001b[0m                                 Traceback (most recent call last)",
      "Cell \u001b[1;32mIn [35], line 5\u001b[0m\n\u001b[0;32m      2\u001b[0m     radius \u001b[39m=\u001b[39m phi \u001b[39m*\u001b[39m r \u001b[39m*\u001b[39m r\n\u001b[0;32m      3\u001b[0m     \u001b[39mreturn\u001b[39;00m radius\n\u001b[1;32m----> 5\u001b[0m countRadius(\u001b[39m10\u001b[39;49m)\n",
      "Cell \u001b[1;32mIn [35], line 2\u001b[0m, in \u001b[0;36mcountRadius\u001b[1;34m(r)\u001b[0m\n\u001b[0;32m      1\u001b[0m \u001b[39mdef\u001b[39;00m \u001b[39mcountRadius\u001b[39m(r):\n\u001b[1;32m----> 2\u001b[0m     radius \u001b[39m=\u001b[39m phi \u001b[39m*\u001b[39m r \u001b[39m*\u001b[39m r\n\u001b[0;32m      3\u001b[0m     \u001b[39mreturn\u001b[39;00m radius\n",
      "\u001b[1;31mNameError\u001b[0m: name 'phi' is not defined"
     ]
    }
   ],
   "source": [
    "def countRadius(r):\n",
    "    radius = phi * r * r\n",
    "    return radius\n",
    "\n",
    "countRadius(10)"
   ]
  },
  {
   "cell_type": "markdown",
   "metadata": {},
   "source": [
    "<p>Pada kasus diatas, terjadi NameError pada variable 'phi' karena variable tersebut tidak ada dalam codingan atau belum didefinisikan.</p>\n",
    "<p>--------------------------------------------------------------------------------------------------------------------------</p>"
   ]
  },
  {
   "cell_type": "markdown",
   "metadata": {},
   "source": [
    "<h2>ZeroDivisionError</h2>\n",
    "<p>d. ZeroDivisionError muncul ketika kita mencoba untuk membagi dengan nol. Contoh kasus coding:<br>\n",
    "Kita akan menentukan 5 buah kue yang akan dibagikan kepada 0 orang. </p>"
   ]
  },
  {
   "cell_type": "code",
   "execution_count": 36,
   "metadata": {},
   "outputs": [
    {
     "ename": "ZeroDivisionError",
     "evalue": "division by zero",
     "output_type": "error",
     "traceback": [
      "\u001b[1;31m---------------------------------------------------------------------------\u001b[0m",
      "\u001b[1;31mZeroDivisionError\u001b[0m                         Traceback (most recent call last)",
      "Cell \u001b[1;32mIn [36], line 5\u001b[0m\n\u001b[0;32m      3\u001b[0m     result \u001b[39m=\u001b[39m cake\u001b[39m/\u001b[39mppl\n\u001b[0;32m      4\u001b[0m     \u001b[39mreturn\u001b[39;00m result\n\u001b[1;32m----> 5\u001b[0m cakeDiv(\u001b[39m0\u001b[39;49m)\n",
      "Cell \u001b[1;32mIn [36], line 3\u001b[0m, in \u001b[0;36mcakeDiv\u001b[1;34m(ppl)\u001b[0m\n\u001b[0;32m      1\u001b[0m \u001b[39mdef\u001b[39;00m \u001b[39mcakeDiv\u001b[39m(ppl):\n\u001b[0;32m      2\u001b[0m     cake \u001b[39m=\u001b[39m \u001b[39m5\u001b[39m\n\u001b[1;32m----> 3\u001b[0m     result \u001b[39m=\u001b[39m cake\u001b[39m/\u001b[39;49mppl\n\u001b[0;32m      4\u001b[0m     \u001b[39mreturn\u001b[39;00m result\n",
      "\u001b[1;31mZeroDivisionError\u001b[0m: division by zero"
     ]
    }
   ],
   "source": [
    "def cakeDiv(ppl):\n",
    "    cake = 5\n",
    "    result = cake/ppl\n",
    "    return result\n",
    "cakeDiv(0)"
   ]
  },
  {
   "cell_type": "markdown",
   "metadata": {},
   "source": [
    "<p>Kode diatas menunjukan error ketika 5 kue dibagi dengan 0 orang.</p>\n",
    "<p>--------------------------------------------------------------------------------------------------------------------------</p>"
   ]
  },
  {
   "cell_type": "markdown",
   "metadata": {},
   "source": [
    "<h2>2. Penjelasan </h2>\n",
    "<h2>Exception Handling</h2>\n",
    "<p>Exception handling adalah mekanisme di dalam bahasa pemrograman yang digunakan untuk menangani kesalahan yang mungkin terjadi saat program dijalankan. Ketika kesalahan terjadi, program akan mengeluarkan sebuah exception, yang kemudian dapat ditangani oleh blok kode yang sesuai.<br><br>\n",
    "Contoh kode:\n",
    "</p>"
   ]
  },
  {
   "cell_type": "code",
   "execution_count": 38,
   "metadata": {},
   "outputs": [
    {
     "name": "stdout",
     "output_type": "stream",
     "text": [
      "Error: Pembagi tidak dapat bernilai 0.\n"
     ]
    }
   ],
   "source": [
    "try:\n",
    "    angka = 10\n",
    "    pembagi = 0\n",
    "\n",
    "    result = angka/pembagi\n",
    "\n",
    "    print(result)\n",
    "except:\n",
    "    print(\"Error: Pembagi tidak dapat bernilai 0.\")"
   ]
  },
  {
   "cell_type": "markdown",
   "metadata": {},
   "source": [
    "<p> Dalam contoh, kita mencoba membagi angka dengan 0. Di sini, kode ini menghasilkan pengecualian/Exception.<br><br>\n",
    "Untuk menangani pengecualian, kita menempatkan kode, result = angka/pembagi di dalam blok try. Sekarang ketika pengecualian terjadi, sisa kode di dalam blok try akan dilewati. Blok except menangkap pengecualian dan pernyataan di dalam blok except dieksekusi.<br>\n",
    "Jika tidak ada pernyataan di blok try yang menghasilkan pengecualian, blok except yang dilewati.</p>"
   ]
  },
  {
   "cell_type": "markdown",
   "metadata": {},
   "source": [
    "<h2> Menangkap Exception / Catching Exeption</h2>\n",
    "<p>Menangkap exception dilakukan dengan menggunakan pernyataan try-except. Pernyataan try digunakan untuk mengeksekusi kode yang mungkin menyebabkan exception, sedangkan pernyataan except digunakan untuk menangani exception yang muncul.<br>\n",
    "Contoh kode:\n",
    "</p>"
   ]
  },
  {
   "cell_type": "code",
   "execution_count": 40,
   "metadata": {},
   "outputs": [
    {
     "name": "stdout",
     "output_type": "stream",
     "text": [
      "Index Out of Bound.\n"
     ]
    }
   ],
   "source": [
    "try:\n",
    "    even = [2,4,6,8]\n",
    "    print(even[5])\n",
    "\n",
    "except ZeroDivisionError:\n",
    "    print(\"Denominator cannot be 0.\")\n",
    "except IndexError:\n",
    "    print(\"Index Out of Bound.\")"
   ]
  },
  {
   "cell_type": "markdown",
   "metadata": {},
   "source": [
    "<p>Dalam contoh ini, kami telah membuat daftar bernama even_numbers. Karena indeks daftar dimulai dari 0, elemen terakhir daftar berada di indeks 3.<br><br>\n",
    "Di sini, kami mencoba mengakses nilai ke indeks 5. Oleh karena itu, pengecualian IndexError terjadi. Ketika pengecualian IndexError terjadi di blok try, Pengecualian ZeroDivisionError dilewati dan kode di dalam pengecualian IndexError dijalankan.</p>\n"
   ]
  }
 ],
 "metadata": {
  "kernelspec": {
   "display_name": "Python 3 (ipykernel)",
   "language": "python",
   "name": "python3"
  },
  "language_info": {
   "codemirror_mode": {
    "name": "ipython",
    "version": 3
   },
   "file_extension": ".py",
   "mimetype": "text/x-python",
   "name": "python",
   "nbconvert_exporter": "python",
   "pygments_lexer": "ipython3",
   "version": "3.9.13"
  },
  "vscode": {
   "interpreter": {
    "hash": "51aeea4e883728daf977104d1c6204be03a693a6e37e6564a5dca7cddca33bc7"
   }
  }
 },
 "nbformat": 4,
 "nbformat_minor": 2
}
