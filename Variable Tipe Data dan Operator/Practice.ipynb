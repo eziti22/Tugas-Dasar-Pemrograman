{
 "cells": [
  {
   "cell_type": "markdown",
   "metadata": {},
   "source": [
    "<h1>Praktikum Variabel & Tipe Data</h1>\n",
    "\n",
    "<h3>Soal 1</h3>\n",
    "Kiki belanja ke alf$$a M$a$r$t membeli 3 hepitos, 2 silperkuin, telor 2kg, beras 5kg, isi ulang akua galon seharga Rp 13.000. Harga hepitos yaitu Rp 15.000, telor Rp 13.000/kg, silperkuin Rp 21.000 beras kemasan 2.5kg seharga Rp 20.000. Toko tersebut memberikan discount 5%, ketika customer membeli makanan lebih dari 3 jenis. Berapakah total bayar belanjaan dari Kiki?\n"
   ]
  },
  {
   "cell_type": "markdown",
   "metadata": {},
   "source": [
    "<h1>Analyze Here</h1>\n",
    "<ul>\n",
    "    <li>Tentukan variabel untuk benda2 yang kiki beli dan diskon yang di berikan apabila kiki membeli lebih dari 3 jenis makanan.</li>\n",
    "    <li>Variabel tersebut adalah hepitos, silperkuin, telor, beras, galon, dan diskon.</li>\n",
    "    <li>Tentukan juga nilai yang berupa harga dari masing2 variabel.</li>\n",
    "    <li>Setelah itu kalikan dengan banyaknya barang yang di beli.(Beras dikalikan 2 karena harga beras tersebut merupakan beras kemasan 2.5kg)</li>\n",
    "    <li>Setelah ditemukan total belanja kiki. Kurangi total tersebut dengan harga yang sudah di kalikan dengan diskon dari total belanja.</li>\n",
    "    <li>Maka ditemukanlah total yang harus dibayar kiki setelah mendapatkan diskon karena kiki membeli lebih dari 3 jenis makanan.</li>\n",
    "</ul>"
   ]
  },
  {
   "cell_type": "code",
   "execution_count": 7,
   "metadata": {},
   "outputs": [
    {
     "name": "stdout",
     "output_type": "stream",
     "text": [
      "Total yang harus di bayar kiki adalah 157700.0\n"
     ]
    }
   ],
   "source": [
    "#Code Here\n",
    "hepitos = 15000\n",
    "silperkuin = 21000\n",
    "telor = 13000\n",
    "beras = 20000\n",
    "galon = 13000\n",
    "diskon = 5/100\n",
    "\n",
    "belanja = 3*hepitos + 2*silperkuin + 2*telor + 2*beras + galon\n",
    "bayar = belanja - (belanja * diskon)\n",
    "\n",
    "print(f\"Total yang harus di bayar kiki adalah {bayar}\")"
   ]
  },
  {
   "cell_type": "markdown",
   "metadata": {},
   "source": [
    "<h3>Soal 2</h3>\n",
    "Roni menabung pada bulan agustus yaitu setiap tanggal ganjil sejumlah Rp 50.000, setiap tanggal genap sejumlah RP 10.000 dan setiap tanggal kelipatan 5 sejumlah Rp 5.000, Berapakah total tabungan Roni diakhir bulan?"
   ]
  },
  {
   "cell_type": "markdown",
   "metadata": {},
   "source": [
    "<h1>Analyze Here</h1>\n",
    "<p>\n",
    "&nbsp;&nbsp;&nbsp;&nbsp; Pertama, kita harus menentukan dulu berapa banyak tanggal ganjil, tanggal genap, dan tanggal dengan kelipatan 5 pada bulan agustus. Bulan agustus memiliki 31 hari. Dengan menentukan tanggal dengan range pada variabel 'tanggal', kita dapat menghitung ganjil, genap, maupun kelipatan 5 dari setiap tanggal.<br/>\n",
    "&nbsp;&nbsp;&nbsp;&nbsp; Penulisan 'range(1,32)' berarti kita akan menghitung masing2 tanggal dari tanggal 1 sampai tanggal 31 (rumus range yaitu range(bilanganAwal,bilanganAkhir+1)). Setelah itu kita tentukan variabelnya yaitu ganjil, genap, dan kelipatan.<br/>\n",
    "&nbsp;&nbsp;&nbsp;&nbsp; Selanjutnya kita gunakan 'x' sebagai variabel bilangan/tanggal yang ada dalam range dan gunakan loop if else untuk membagi habis x dengan 2 (modulus). Apabila modulus x atau sisa bagi x = 0, maka bilangan/tanggal tersebut merupakan tanggal ganjil. Apabila tidak, tanggal tersebut merupakan tanggal genap.<br/>\n",
    "&nbsp;&nbsp;&nbsp;&nbsp; Lakukan juga loop if pada kelipatan dengan membagi habis x dengan 5.\n",
    "    <hr/>\n",
    "&nbsp;&nbsp;&nbsp;&nbsp; Lanjutkan mengalikan masing2 jumlah tanggal ganjil, genap, dan kelipatan 5 dengan berapa roni menabung pada setiap tanggal tersebut. Lalu dijumlahkan totalnya. Maka akan ditemukan berapa total tabungan roni pada akhir bulan.\n",
    "\n",
    "</p>"
   ]
  },
  {
   "cell_type": "code",
   "execution_count": 34,
   "metadata": {},
   "outputs": [
    {
     "name": "stdout",
     "output_type": "stream",
     "text": [
      "Total tanggal ganjil pada bulan agustus adalah 16 hari\n",
      "Total tanggal genap pada bulan agustus adalah 15 hari\n",
      "Total tanggal dengan kelipatan 5 pada bulan agustus adalah 6 hari\n",
      "Total tabungan Roni di akhir bulan adalah sebanyak 980000.\n"
     ]
    }
   ],
   "source": [
    "#menentukan banyaknya tanggal ganjil, genap, dan tanggal kelipatan 5\n",
    "tanggal = list(range(1,32))\n",
    "ganjil = 0\n",
    "genap = 0\n",
    "kelipatan = 0\n",
    "for x in tanggal: #menghitung tanggal ganjil dan genap\n",
    "    if x % 2==0:\n",
    "        genap+=1\n",
    "    else:\n",
    "        ganjil+=1\n",
    "    if x % 5==0:\n",
    "        kelipatan +=1\n",
    "        \n",
    "print(f\"Total tanggal ganjil pada bulan agustus adalah {ganjil} hari\")\n",
    "print(f\"Total tanggal genap pada bulan agustus adalah {genap} hari\")\n",
    "print(f\"Total tanggal dengan kelipatan 5 pada bulan agustus adalah {kelipatan} hari\")\n",
    "\n",
    "NabungGanjil = ganjil * 50000\n",
    "NabungGenap = genap * 10000\n",
    "NabungKelipatan_5 = kelipatan * 5000\n",
    "\n",
    "total = NabungGanjil + NabungGenap + NabungKelipatan_5\n",
    "\n",
    "print(f\"Total tabungan Roni di akhir bulan adalah sebanyak {total}.\")\n",
    "\n",
    "\n"
   ]
  },
  {
   "cell_type": "markdown",
   "metadata": {},
   "source": [
    "<h3>Soal 3</h3>\n",
    "Saat hari raya, Deni ingin menukarkan uang sejumlah Rp 5.000.000 ke pecahan 20rb, 10rb, 5rb, 2rb. berapa jumlahnya yang didapatkan Deni jika 20rb maksimal 100, 10rb maksimal 50.Jika :\n",
    "<ol>\n",
    "    <li>3(a)Semua pecahan harus ada</li>\n",
    "    <li>3(b)Hanya pecahan 20rb, 10rb dan 5rb</li>\n",
    "    <li>3(c)Hanya pecahan 20rb, 10rb dan 2rb</li>\n",
    "</ol>"
   ]
  },
  {
   "cell_type": "markdown",
   "metadata": {},
   "source": [
    "<h1>Analyze Here</h1>\n",
    "....."
   ]
  },
  {
   "cell_type": "code",
   "execution_count": 47,
   "metadata": {},
   "outputs": [
    {
     "name": "stdout",
     "output_type": "stream",
     "text": [
      "Input uang 5000000,  Pecahan yang kita butuhkan yaitu: \n",
      "pecahan 20000 : 250\n"
     ]
    }
   ],
   "source": [
    "uang = 5000000\n",
    "uang_pecahan = [20000, 10000, 5000, 2000]\n",
    "jumlah_pecahan = {}\n",
    "sisa = uang\n",
    "print('Input uang {},  Pecahan yang kita butuhkan yaitu: '.format(uang))\n",
    "for pecahan in uang_pecahan:\n",
    "    if sisa < pecahan:\n",
    "        continue\n",
    "    banyak_pecahan = int(sisa / pecahan)\n",
    "    sisa = sisa - ( pecahan * banyak_pecahan )\n",
    "    print('pecahan {} : {}'.format(pecahan, banyak_pecahan))"
   ]
  },
  {
   "cell_type": "markdown",
   "metadata": {},
   "source": [
    "<h3>Soal 4</h3>\n",
    "Berapakah hasil dari (10/23-6+4-(20//3%2)) ?\n",
    "Lakukan analisa perhitungan dari hasil tersebut!\n",
    "Berdasarkan hasil tersebut urutkan operator yang dikerjakan!"
   ]
  },
  {
   "cell_type": "markdown",
   "metadata": {},
   "source": [
    "<h1>Analyze Here</h1>\n",
    "....."
   ]
  },
  {
   "cell_type": "code",
   "execution_count": 35,
   "metadata": {},
   "outputs": [
    {
     "name": "stdout",
     "output_type": "stream",
     "text": [
      "-1.5652173913043477\n"
     ]
    }
   ],
   "source": [
    "#Code here\n"
   ]
  },
  {
   "cell_type": "markdown",
   "metadata": {},
   "source": [
    "<h3>Soal 5</h3>\n",
    "Jika terdapat string yaitu \"UFLOPYXTKJACSWRBGQZVDMEHIN\", maka susunlah nama kalian masing-masing dari data tersebut, berdasarkan index dari masing-masing huruf yang ada pada string tersebut!\n"
   ]
  },
  {
   "cell_type": "markdown",
   "metadata": {},
   "source": [
    "<h1>Analyze Here</h1>\n",
    "....."
   ]
  },
  {
   "cell_type": "code",
   "execution_count": null,
   "metadata": {},
   "outputs": [],
   "source": []
  }
 ],
 "metadata": {
  "kernelspec": {
   "display_name": "Python 3 (ipykernel)",
   "language": "python",
   "name": "python3"
  },
  "language_info": {
   "codemirror_mode": {
    "name": "ipython",
    "version": 3
   },
   "file_extension": ".py",
   "mimetype": "text/x-python",
   "name": "python",
   "nbconvert_exporter": "python",
   "pygments_lexer": "ipython3",
   "version": "3.9.12"
  }
 },
 "nbformat": 4,
 "nbformat_minor": 4
}
